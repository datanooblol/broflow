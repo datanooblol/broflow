{
 "cells": [
  {
   "cell_type": "code",
   "execution_count": 1,
   "id": "98b3704b",
   "metadata": {},
   "outputs": [],
   "source": [
    "from broflow import Action"
   ]
  },
  {
   "cell_type": "code",
   "execution_count": null,
   "id": "1da6d6ed",
   "metadata": {},
   "outputs": [],
   "source": [
    "class BatchAction(Action):\n",
    "    ..."
   ]
  }
 ],
 "metadata": {
  "kernelspec": {
   "display_name": "broverse",
   "language": "python",
   "name": "python3"
  },
  "language_info": {
   "codemirror_mode": {
    "name": "ipython",
    "version": 3
   },
   "file_extension": ".py",
   "mimetype": "text/x-python",
   "name": "python",
   "nbconvert_exporter": "python",
   "pygments_lexer": "ipython3",
   "version": "3.12.9"
  }
 },
 "nbformat": 4,
 "nbformat_minor": 5
}
